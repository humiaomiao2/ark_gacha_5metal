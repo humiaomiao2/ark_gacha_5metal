{
 "cells": [
  {
   "cell_type": "markdown",
   "metadata": {},
   "source": [
    "# 明日方舟“地生五金”卡池解析\n",
    "by 我叫胡喵喵@NGA    \n",
    "2019 Jan 13"
   ]
  },
  {
   "cell_type": "code",
   "execution_count": 1,
   "metadata": {},
   "outputs": [],
   "source": [
    "import numpy as np\n",
    "import matplotlib.pyplot as plt\n",
    "import cv2\n",
    "from tqdm.notebook import trange\n",
    "\n",
    "old_6_num = 17 #old 6-star\n",
    "player_num = 100000"
   ]
  },
  {
   "cell_type": "code",
   "execution_count": 2,
   "metadata": {},
   "outputs": [],
   "source": [
    "class Player(object):\n",
    "    def __init__(self, stop_cond):\n",
    "        self.gacha_count = 0\n",
    "        self.no_6_count = 0\n",
    "        self.have_nian = False\n",
    "        self.have_aak = False\n",
    "        self.stop_cond= stop_cond #stop condition, string or \n",
    "    \n",
    "    def restart(self):\n",
    "        self.gacha_count = 0\n",
    "        self.no_6_count = 0\n",
    "        self.have_nian = False\n",
    "        self.have_aak = False\n",
    "        \n",
    "    def gacha(self, gacha_machine):\n",
    "        self.gacha_count += 1\n",
    "        card = gacha_machine.gacha(self)\n",
    "        if card == 'nian':\n",
    "            self.have_nian = True\n",
    "            self.no_6_count = 0\n",
    "        elif card == 'aak':\n",
    "            self.have_aak = True\n",
    "            self.no_6_count = 0\n",
    "        elif card == 'other_6':\n",
    "            self.no_6_count = 0\n",
    "        else:\n",
    "            self.no_6_count += 1\n",
    "        return card\n",
    "        \n",
    "    def stop(self): \n",
    "        if type(self.stop_cond) == str:\n",
    "            if self.stop_cond == 'new_2':\n",
    "                return (self.have_nian and self.have_aak)\n",
    "            elif self.stop_cond == 'new_any_1':\n",
    "                return (self.have_nian or self.have_aak)\n",
    "            elif self.stop_cond == 'new_nian':\n",
    "                return self.have_nian\n",
    "            elif self.stop_cond == 'new_aak':\n",
    "                return self.have_aak\n",
    "            else:\n",
    "                raise ValueError(\"Undefined stop condition: {}\".format(stop_cond))\n",
    "        elif type(self.stop_cond) == int:\n",
    "            return self.gacha_count >= self.stop_cond\n",
    "        else:\n",
    "            raise ValueError(\"Undefined stop condition: {}\".format(stop_cond))"
   ]
  },
  {
   "cell_type": "code",
   "execution_count": 3,
   "metadata": {},
   "outputs": [],
   "source": [
    "class Gacha_machine(object):\n",
    "    def __init__(self, up_type):\n",
    "        if up_type == 'double':\n",
    "            self.nian_in_6 = 0.35\n",
    "            self.aak_in_6 = 0.35\n",
    "        elif up_type == 'nian':\n",
    "            self.nian_in_6 = 0.5\n",
    "            self.aak_in_6 = 0.5/(old_6_num+1)\n",
    "        elif up_type == 'aak':\n",
    "            self.aak_in_6 = 0.5\n",
    "            self.nian_in_6 = 0.5/(old_6_num+1)\n",
    "        else:\n",
    "            raise ValueError(\"Undefined up type: {}\".format(up_type))\n",
    "        np.random.seed(20200116) # to fix random state, make it reproducable\n",
    "            \n",
    "    def _full_portion(self, player):\n",
    "        # determin the portion of 6 stars\n",
    "        no_6_count = player.no_6_count\n",
    "        if no_6_count < 51:\n",
    "            p_6 = 0.02\n",
    "        elif no_6_count < 100:\n",
    "            p_6 = 0.02 + 0.02*(no_6_count-50)\n",
    "        else:\n",
    "            raise RuntimeError(\"Why no_6_count can be {}?\".format(no_6_count))\n",
    "        # determine the portion of 4 conditions\n",
    "        p_no_6 = 1 - p_6\n",
    "        p_nian = p_6 * self.nian_in_6\n",
    "        p_aak = p_6 * self.aak_in_6\n",
    "        p_other_6 = p_6 * (1-self.nian_in_6-self.aak_in_6)\n",
    "        return p_no_6, p_nian, p_aak, p_other_6\n",
    "        \n",
    "    def gacha(self, player):\n",
    "        p_list = self._full_portion(player)\n",
    "        #print(\"probabilities: no_6, nian, aak, other_6 \\n\" + \n",
    "        #    \"{:.4f}, {:.4f}, {:.4f}, {:.4f}\".format(*p_list))\n",
    "        stumps = [sum(p_list[:a+1]) for a in range(len(p_list))]\n",
    "        assert abs(stumps[-1]-1) < 1e-10, \\\n",
    "        \"Why all probs ({}) don't sum to 1?\".format(p_list)\n",
    "        rand_num = np.random.rand(1)\n",
    "        if rand_num < stumps[0]:\n",
    "            return 'no_6'\n",
    "        elif rand_num < stumps[1]:\n",
    "            return 'nian'\n",
    "        elif rand_num < stumps[2]:\n",
    "            return 'aak'\n",
    "        else:\n",
    "            return 'other_6'"
   ]
  },
  {
   "cell_type": "code",
   "execution_count": 4,
   "metadata": {},
   "outputs": [],
   "source": [
    "gacha_double = Gacha_machine('double')\n",
    "gacha_nian = Gacha_machine('nian')\n",
    "gacha_aak = Gacha_machine('aak')"
   ]
  },
  {
   "cell_type": "markdown",
   "metadata": {},
   "source": [
    "## 抽数有限型\n",
    "兼复现 sagasdgsags@NGA 数据贴 https://ngabbs.com/read.php?tid=19982718 部分结论\n"
   ]
  },
  {
   "cell_type": "markdown",
   "metadata": {},
   "source": [
    "### 抽取“地生五金”池"
   ]
  },
  {
   "cell_type": "code",
   "execution_count": 5,
   "metadata": {
    "scrolled": false
   },
   "outputs": [
    {
     "name": "stdout",
     "output_type": "stream",
     "text": [
      "地生五金池\n",
      "      年阿均无  有阿无年  有年无阿  年阿均有  的概率分别为：\n"
     ]
    },
    {
     "data": {
      "application/vnd.jupyter.widget-view+json": {
       "model_id": "",
       "version_major": 2,
       "version_minor": 0
      },
      "text/plain": [
       "HBox(children=(FloatProgress(value=0.0, description='players', max=100000.0, style=ProgressStyle(description_w…"
      ]
     },
     "metadata": {},
     "output_type": "display_data"
    },
    {
     "name": "stdout",
     "output_type": "stream",
     "text": [
      "\r",
      " 25抽   70.34%   13.56%   13.64%    2.46% \n"
     ]
    },
    {
     "data": {
      "application/vnd.jupyter.widget-view+json": {
       "model_id": "",
       "version_major": 2,
       "version_minor": 0
      },
      "text/plain": [
       "HBox(children=(FloatProgress(value=0.0, description='players', max=100000.0, style=ProgressStyle(description_w…"
      ]
     },
     "metadata": {},
     "output_type": "display_data"
    },
    {
     "name": "stdout",
     "output_type": "stream",
     "text": [
      "\r",
      " 50抽   49.50%   20.66%   21.06%    8.78% \n"
     ]
    },
    {
     "data": {
      "application/vnd.jupyter.widget-view+json": {
       "model_id": "",
       "version_major": 2,
       "version_minor": 0
      },
      "text/plain": [
       "HBox(children=(FloatProgress(value=0.0, description='players', max=100000.0, style=ProgressStyle(description_w…"
      ]
     },
     "metadata": {},
     "output_type": "display_data"
    },
    {
     "name": "stdout",
     "output_type": "stream",
     "text": [
      "\r",
      " 75抽   16.45%   31.22%   31.39%    20.95% \n"
     ]
    },
    {
     "data": {
      "application/vnd.jupyter.widget-view+json": {
       "model_id": "",
       "version_major": 2,
       "version_minor": 0
      },
      "text/plain": [
       "HBox(children=(FloatProgress(value=0.0, description='players', max=100000.0, style=ProgressStyle(description_w…"
      ]
     },
     "metadata": {},
     "output_type": "display_data"
    },
    {
     "name": "stdout",
     "output_type": "stream",
     "text": [
      "\r",
      "100抽   9.35%   27.60%   27.93%    35.12% \n"
     ]
    },
    {
     "data": {
      "application/vnd.jupyter.widget-view+json": {
       "model_id": "",
       "version_major": 2,
       "version_minor": 0
      },
      "text/plain": [
       "HBox(children=(FloatProgress(value=0.0, description='players', max=100000.0, style=ProgressStyle(description_w…"
      ]
     },
     "metadata": {},
     "output_type": "display_data"
    },
    {
     "name": "stdout",
     "output_type": "stream",
     "text": [
      "\r",
      "150抽   2.05%   18.34%   18.70%    60.91% \n"
     ]
    },
    {
     "data": {
      "application/vnd.jupyter.widget-view+json": {
       "model_id": "",
       "version_major": 2,
       "version_minor": 0
      },
      "text/plain": [
       "HBox(children=(FloatProgress(value=0.0, description='players', max=100000.0, style=ProgressStyle(description_w…"
      ]
     },
     "metadata": {},
     "output_type": "display_data"
    },
    {
     "name": "stdout",
     "output_type": "stream",
     "text": [
      "\r",
      "200抽   0.44%   11.04%   11.13%    77.39% \n"
     ]
    },
    {
     "data": {
      "application/vnd.jupyter.widget-view+json": {
       "model_id": "",
       "version_major": 2,
       "version_minor": 0
      },
      "text/plain": [
       "HBox(children=(FloatProgress(value=0.0, description='players', max=100000.0, style=ProgressStyle(description_w…"
      ]
     },
     "metadata": {},
     "output_type": "display_data"
    },
    {
     "name": "stdout",
     "output_type": "stream",
     "text": [
      "\r",
      "300抽   0.02%   3.63%   3.68%    92.67% \n"
     ]
    }
   ],
   "source": [
    "gacha_double_portion_list = []\n",
    "print(\"地生五金池\")\n",
    "print(\"      年阿均无  有阿无年  有年无阿  年阿均有  的概率分别为：\")\n",
    "for N in (25,50,75,100,150,200,300):\n",
    "    player = Player(N)\n",
    "    nian_aak_list = []\n",
    "    for a in trange(player_num, desc='players', leave=False):\n",
    "        player.restart()\n",
    "        while not player.stop():\n",
    "            player.gacha(gacha_double)\n",
    "        nian_aak_list.append((player.have_nian, player.have_aak))\n",
    "\n",
    "    four_conditions_list = [((not na[0]) and (not na[1]), (na[0] and (not na[1])), (not na[0]) and na[1], na[0] and na[1]) \n",
    "                            for na in nian_aak_list]\n",
    "    neither_arr = np.array([four[0] for four in four_conditions_list]).astype(np.float)\n",
    "    nian_arr = np.array([four[1] for four in four_conditions_list]).astype(np.float)\n",
    "    aak_arr = np.array([four[2] for four in four_conditions_list]).astype(np.float)\n",
    "    both_arr = np.array([four[3] for four in four_conditions_list]).astype(np.float)\n",
    "\n",
    "    neither_portion = sum(neither_arr)/len(neither_arr)\n",
    "    aak_portion = sum(aak_arr)/len(aak_arr)\n",
    "    nian_portion = sum(nian_arr)/len(nian_arr)\n",
    "    both_portion = sum(both_arr)/len(both_arr)\n",
    "    gacha_double_portion_list.append([neither_portion, aak_portion, nian_portion, both_portion])\n",
    "\n",
    "    print(\"{:3d}抽   {:.2f}%   {:.2f}%   {:.2f}%    {:.2f}% \".format(\n",
    "        N, neither_portion*100, aak_portion*100, nian_portion*100, both_portion*100))"
   ]
  },
  {
   "cell_type": "markdown",
   "metadata": {},
   "source": [
    "## 抽取“50%单up日替池” (优先抽\"年\")"
   ]
  },
  {
   "cell_type": "code",
   "execution_count": 6,
   "metadata": {},
   "outputs": [
    {
     "name": "stdout",
     "output_type": "stream",
     "text": [
      "日替池\n",
      "      年阿均无  有阿无年  有年无阿  年阿均有  的概率分别为：\n"
     ]
    },
    {
     "data": {
      "application/vnd.jupyter.widget-view+json": {
       "model_id": "",
       "version_major": 2,
       "version_minor": 0
      },
      "text/plain": [
       "HBox(children=(FloatProgress(value=0.0, description='players', max=100000.0, style=ProgressStyle(description_w…"
      ]
     },
     "metadata": {},
     "output_type": "display_data"
    },
    {
     "name": "stdout",
     "output_type": "stream",
     "text": [
      "\r",
      " 25抽   76.72%   1.09%   19.46%    2.73% \n"
     ]
    },
    {
     "data": {
      "application/vnd.jupyter.widget-view+json": {
       "model_id": "",
       "version_major": 2,
       "version_minor": 0
      },
      "text/plain": [
       "HBox(children=(FloatProgress(value=0.0, description='players', max=100000.0, style=ProgressStyle(description_w…"
      ]
     },
     "metadata": {},
     "output_type": "display_data"
    },
    {
     "name": "stdout",
     "output_type": "stream",
     "text": [
      "\r",
      " 50抽   58.89%   1.67%   30.23%    9.22% \n"
     ]
    },
    {
     "data": {
      "application/vnd.jupyter.widget-view+json": {
       "model_id": "",
       "version_major": 2,
       "version_minor": 0
      },
      "text/plain": [
       "HBox(children=(FloatProgress(value=0.0, description='players', max=100000.0, style=ProgressStyle(description_w…"
      ]
     },
     "metadata": {},
     "output_type": "display_data"
    },
    {
     "name": "stdout",
     "output_type": "stream",
     "text": [
      "\r",
      " 75抽   29.78%   2.56%   44.96%    22.71% \n"
     ]
    },
    {
     "data": {
      "application/vnd.jupyter.widget-view+json": {
       "model_id": "",
       "version_major": 2,
       "version_minor": 0
      },
      "text/plain": [
       "HBox(children=(FloatProgress(value=0.0, description='players', max=100000.0, style=ProgressStyle(description_w…"
      ]
     },
     "metadata": {},
     "output_type": "display_data"
    },
    {
     "name": "stdout",
     "output_type": "stream",
     "text": [
      "\r",
      "100抽   20.31%   2.19%   39.77%    37.73% \n"
     ]
    },
    {
     "data": {
      "application/vnd.jupyter.widget-view+json": {
       "model_id": "",
       "version_major": 2,
       "version_minor": 0
      },
      "text/plain": [
       "HBox(children=(FloatProgress(value=0.0, description='players', max=100000.0, style=ProgressStyle(description_w…"
      ]
     },
     "metadata": {},
     "output_type": "display_data"
    },
    {
     "name": "stdout",
     "output_type": "stream",
     "text": [
      "\r",
      "150抽   7.47%   1.42%   25.63%    65.48% \n"
     ]
    },
    {
     "data": {
      "application/vnd.jupyter.widget-view+json": {
       "model_id": "",
       "version_major": 2,
       "version_minor": 0
      },
      "text/plain": [
       "HBox(children=(FloatProgress(value=0.0, description='players', max=100000.0, style=ProgressStyle(description_w…"
      ]
     },
     "metadata": {},
     "output_type": "display_data"
    },
    {
     "name": "stdout",
     "output_type": "stream",
     "text": [
      "\r",
      "200抽   2.89%   0.77%   14.27%    82.07% \n"
     ]
    },
    {
     "data": {
      "application/vnd.jupyter.widget-view+json": {
       "model_id": "",
       "version_major": 2,
       "version_minor": 0
      },
      "text/plain": [
       "HBox(children=(FloatProgress(value=0.0, description='players', max=100000.0, style=ProgressStyle(description_w…"
      ]
     },
     "metadata": {},
     "output_type": "display_data"
    },
    {
     "name": "stdout",
     "output_type": "stream",
     "text": [
      "\r",
      "300抽   0.43%   0.18%   3.43%    95.96% \n"
     ]
    }
   ],
   "source": [
    "gacha_alter_portion_list = []\n",
    "print(\"日替池\")\n",
    "print(\"      年阿均无  有阿无年  有年无阿  年阿均有  的概率分别为：\")\n",
    "for N in (25,50,75,100,150,200,300):\n",
    "    player = Player(N)\n",
    "    nian_aak_list = []\n",
    "    for a in trange(player_num, desc='players', leave=False):\n",
    "        player.restart()\n",
    "        while (not player.have_nian) and (not player.stop()):\n",
    "            player.gacha(gacha_nian)\n",
    "        while (not player.have_aak) and (not player.stop()):\n",
    "            player.gacha(gacha_aak)\n",
    "        nian_aak_list.append((player.have_nian, player.have_aak))\n",
    "\n",
    "    four_conditions_list = [((not na[0]) and (not na[1]), (na[0] and (not na[1])), (not na[0]) and na[1], na[0] and na[1]) \n",
    "                            for na in nian_aak_list]\n",
    "    neither_arr = np.array([four[0] for four in four_conditions_list]).astype(np.float)\n",
    "    nian_arr = np.array([four[1] for four in four_conditions_list]).astype(np.float)\n",
    "    aak_arr = np.array([four[2] for four in four_conditions_list]).astype(np.float)\n",
    "    both_arr = np.array([four[3] for four in four_conditions_list]).astype(np.float)\n",
    "\n",
    "    neither_portion = sum(neither_arr)/len(neither_arr)\n",
    "    nian_portion = sum(nian_arr)/len(nian_arr)\n",
    "    aak_portion = sum(aak_arr)/len(aak_arr)\n",
    "    both_portion = sum(both_arr)/len(both_arr)\n",
    "    gacha_alter_portion_list.append([neither_portion, aak_portion, nian_portion, both_portion])\n",
    "\n",
    "    print(\"{:3d}抽   {:.2f}%   {:.2f}%   {:.2f}%    {:.2f}% \".format(\n",
    "        N, neither_portion*100, aak_portion*100, nian_portion*100, both_portion*100))"
   ]
  },
  {
   "cell_type": "code",
   "execution_count": 25,
   "metadata": {},
   "outputs": [
    {
     "data": {
      "image/png": "[encoded data removed]",
      "text/plain": [
       "<Figure size 1152x648 with 1 Axes>"
      ]
     },
     "metadata": {
      "needs_background": "light"
     },
     "output_type": "display_data"
    }
   ],
   "source": [
    "gray = (227,228,226)\n",
    "blue = (90,151,206)\n",
    "gold = (244,234,150)\n",
    "orange = (255,130,1)\n",
    "\n",
    "width = 1000\n",
    "height = width//10"
   ]
  },
  {
   "cell_type": "code",
   "execution_count": 28,
   "metadata": {},
   "outputs": [],
   "source": [
    "for p_list, gacha_count in zip(gacha_double_portion_list, (25,50,75,100,150,200,300)):\n",
    "    stumps = [sum(p_list[:a+1]) for a in range(len(p_list))]\n",
    "    stumps = np.round(1000*np.array([0]+stumps)).astype(np.int)\n",
    "    test_board = np.zeros((height,width,3), dtype=np.uint8)\n",
    "    for lx,rx,color in zip(stumps[:-1],stumps[1:],[gray,blue,gold,orange]):\n",
    "        for ch,v in enumerate(color):\n",
    "            test_board[:,lx:rx,ch] = v\n",
    "    cv2.imwrite(\"double_{}draw_{:.2f}-{:.2f}-{:.2f}-{:.2f}.png\".format(\n",
    "                    gacha_count, neither_portion*100, aak_portion*100, nian_portion*100, both_portion*100),\n",
    "                cv2.cvtColor(test_board, cv2.COLOR_RGB2BGR))"
   ]
  },
  {
   "cell_type": "code",
   "execution_count": 29,
   "metadata": {},
   "outputs": [],
   "source": [
    "for p_list, gacha_count in zip(gacha_alter_portion_list, (25,50,75,100,150,200,300)):\n",
    "    stumps = [sum(p_list[:a+1]) for a in range(len(p_list))]\n",
    "    stumps = np.round(1000*np.array([0]+stumps)).astype(np.int)\n",
    "    test_board = np.zeros((height,width,3), dtype=np.uint8)\n",
    "    for lx,rx,color in zip(stumps[:-1],stumps[1:],[gray,blue,gold,orange]):\n",
    "        for ch,v in enumerate(color):\n",
    "            test_board[:,lx:rx,ch] = v\n",
    "    cv2.imwrite(\"alter_{}draw_{:.2f}-{:.2f}-{:.2f}-{:.2f}.png\".format(\n",
    "                    gacha_count, neither_portion*100, aak_portion*100, nian_portion*100, both_portion*100),\n",
    "                cv2.cvtColor(test_board, cv2.COLOR_RGB2BGR))"
   ]
  },
  {
   "cell_type": "markdown",
   "metadata": {},
   "source": [
    "## 不成不休型"
   ]
  },
  {
   "cell_type": "markdown",
   "metadata": {},
   "source": [
    "### 抽取\"地生五金\"池"
   ]
  },
  {
   "cell_type": "code",
   "execution_count": 5,
   "metadata": {},
   "outputs": [
    {
     "data": {
      "application/vnd.jupyter.widget-view+json": {
       "model_id": "",
       "version_major": 2,
       "version_minor": 0
      },
      "text/plain": [
       "HBox(children=(FloatProgress(value=0.0, description='players', max=100000.0, style=ProgressStyle(description_w…"
      ]
     },
     "metadata": {},
     "output_type": "display_data"
    },
    {
     "name": "stdout",
     "output_type": "stream",
     "text": [
      "\r"
     ]
    }
   ],
   "source": [
    "player_num = 100000\n",
    "gacha_double_nian_occur_arr = np.zeros(player_num, dtype=np.int)\n",
    "gacha_double_aak_occur_arr = np.zeros(player_num, dtype=np.int)\n",
    "player = Player('new_2')\n",
    "for a in trange(player_num, desc='players', leave=False):\n",
    "    player.restart()\n",
    "    while not player.stop():\n",
    "        card = player.gacha(gacha_double)\n",
    "        if card=='nian' and (gacha_double_nian_occur_arr[a]==0):\n",
    "            gacha_double_nian_occur_arr[a] = player.gacha_count\n",
    "        if card=='aak' and (gacha_double_aak_occur_arr[a]==0):\n",
    "            gacha_double_aak_occur_arr[a] = player.gacha_count\n",
    "            \n",
    "gacha_double_either_occur_arr = \\\n",
    "    np.array([min(a,b) for a,b in \n",
    "              zip(gacha_double_nian_occur_arr, gacha_double_aak_occur_arr)])\n",
    "gacha_double_both_occur_arr = \\\n",
    "    np.array([max(a,b) for a,b in \n",
    "              zip(gacha_double_nian_occur_arr, gacha_double_aak_occur_arr)])\n",
    "gacha_double_for_nian_get_aak_too_arr = \\\n",
    "    np.array([a>b for a,b in \n",
    "              zip(gacha_double_nian_occur_arr, gacha_double_aak_occur_arr)]).astype(np.int)\n",
    "for_nian_get_aak_rate = np.sum(gacha_double_for_nian_get_aak_too_arr)/player_num\n",
    "print(\"目标是抽年，但抽年过程中也抽到阿的概率为：{}。(理论概率0.5)\".format(for_nian_get_aak_rate))"
   ]
  },
  {
   "cell_type": "code",
   "execution_count": 15,
   "metadata": {
    "scrolled": false
   },
   "outputs": [
    {
     "data": {
      "image/png": "[encoded data removed]",
      "text/plain": [
       "<Figure size 1152x432 with 1 Axes>"
      ]
     },
     "metadata": {
      "needs_background": "light"
     },
     "output_type": "display_data"
    },
    {
     "name": "stdout",
     "output_type": "stream",
     "text": [
      "平均抽数：49.91435，中位数：50.0，众数：57，欧线：21.0，非线：63.0\n"
     ]
    },
    {
     "data": {
      "image/png": "[encoded data removed]",
      "text/plain": [
       "<Figure size 1152x432 with 1 Axes>"
      ]
     },
     "metadata": {
      "needs_background": "light"
     },
     "output_type": "display_data"
    },
    {
     "name": "stdout",
     "output_type": "stream",
     "text": [
      "平均抽数：99.55431，中位数：71.0，众数：57，欧线：42.0，非线：133.0\n"
     ]
    },
    {
     "data": {
      "image/png": "[encoded data removed]",
      "text/plain": [
       "<Figure size 1152x432 with 1 Axes>"
      ]
     },
     "metadata": {
      "needs_background": "light"
     },
     "output_type": "display_data"
    },
    {
     "name": "stdout",
     "output_type": "stream",
     "text": [
      "平均抽数：149.42269，中位数：127.0，众数：119，欧线：82.0，非线：192.0\n"
     ]
    }
   ],
   "source": [
    "for S, title, y_max in zip([gacha_double_either_occur_arr, gacha_double_nian_occur_arr, gacha_double_both_occur_arr],\n",
    "                           ['new_either','nian','new_both'],\n",
    "                           [0.15, 0.10, 0.040]):\n",
    "    mean = np.mean(S)\n",
    "    median = np.median(S)\n",
    "    mode = np.argmax(np.bincount(S))\n",
    "    eu_line = np.percentile(S,25)\n",
    "    af_line = np.percentile(S,75)\n",
    "    \n",
    "    plt.figure(figsize=(16,6))\n",
    "    plt.hist(S, weights=np.ones_like(S) / len(S),\n",
    "             range=(0,500), bins=100)\n",
    "    plt.ylim(0, y_max)\n",
    "    plt.grid(axis='y',linestyle='--')\n",
    "    plt.plot([eu_line, eu_line], [0, 0.005], color='r', linestyle='-')\n",
    "    plt.plot([af_line, af_line], [0, 0.005], color='r', linestyle='-')\n",
    "    plt.title(title)\n",
    "    plt.savefig('double-'+title+'.png')\n",
    "    plt.show()\n",
    "\n",
    "    print(\"平均抽数：{}，中位数：{}，众数：{}，欧线：{}，非线：{}\".format(\n",
    "        mean, median, mode, eu_line, af_line))"
   ]
  },
  {
   "cell_type": "markdown",
   "metadata": {},
   "source": [
    "### 抽取日替池"
   ]
  },
  {
   "cell_type": "code",
   "execution_count": 6,
   "metadata": {},
   "outputs": [
    {
     "data": {
      "application/vnd.jupyter.widget-view+json": {
       "model_id": "",
       "version_major": 2,
       "version_minor": 0
      },
      "text/plain": [
       "HBox(children=(FloatProgress(value=0.0, description='players', max=100000.0, style=ProgressStyle(description_w…"
      ]
     },
     "metadata": {},
     "output_type": "display_data"
    },
    {
     "name": "stdout",
     "output_type": "stream",
     "text": [
      "\r"
     ]
    }
   ],
   "source": [
    "player_num = 100000\n",
    "gacha_alter_nian_occur_arr = np.zeros(player_num, dtype=np.int)\n",
    "gacha_alter_aak_occur_arr = np.zeros(player_num, dtype=np.int)\n",
    "player = Player('new_2')\n",
    "for a in trange(player_num, desc='players', leave=False):\n",
    "    player.restart()\n",
    "    while not player.have_nian:\n",
    "        card = player.gacha(gacha_nian)\n",
    "        if card=='nian' and (gacha_alter_nian_occur_arr[a]==0):\n",
    "            gacha_alter_nian_occur_arr[a] = player.gacha_count\n",
    "        if card=='aak' and (gacha_alter_aak_occur_arr[a]==0): #需注意，年池中也会出阿\n",
    "            gacha_alter_aak_occur_arr[a] = player.gacha_count\n",
    "    while not player.have_aak:\n",
    "        card = player.gacha(gacha_aak)\n",
    "        if card=='aak' and (gacha_alter_aak_occur_arr[a]==0):\n",
    "            gacha_alter_aak_occur_arr[a] = player.gacha_count\n",
    "        # 已经有年了，阿池中出年不必处理\n",
    "\n",
    "gacha_alter_either_occur_arr = \\\n",
    "    np.array([min(a,b) for a,b in \n",
    "              zip(gacha_alter_nian_occur_arr, gacha_alter_aak_occur_arr)])\n",
    "gacha_alter_both_occur_arr = \\\n",
    "    np.array([max(a,b) for a,b in \n",
    "              zip(gacha_alter_nian_occur_arr, gacha_alter_aak_occur_arr)])"
   ]
  },
  {
   "cell_type": "code",
   "execution_count": 16,
   "metadata": {
    "scrolled": false
   },
   "outputs": [
    {
     "data": {
      "image/png": "[encoded data removed]",
      "text/plain": [
       "<Figure size 1152x432 with 1 Axes>"
      ]
     },
     "metadata": {
      "needs_background": "light"
     },
     "output_type": "display_data"
    },
    {
     "name": "stdout",
     "output_type": "stream",
     "text": [
      "平均抽数：65.88451，中位数：57.0，众数：57，欧线：28.0，非线：86.0\n"
     ]
    },
    {
     "data": {
      "image/png": "[encoded data removed]",
      "text/plain": [
       "<Figure size 1152x432 with 1 Axes>"
      ]
     },
     "metadata": {
      "needs_background": "light"
     },
     "output_type": "display_data"
    },
    {
     "name": "stdout",
     "output_type": "stream",
     "text": [
      "平均抽数：69.61995，中位数：58.0，众数：57，欧线：29.0，非线：93.0\n"
     ]
    },
    {
     "data": {
      "image/png": "[encoded data removed]",
      "text/plain": [
       "<Figure size 1152x432 with 1 Axes>"
      ]
     },
     "metadata": {
      "needs_background": "light"
     },
     "output_type": "display_data"
    },
    {
     "name": "stdout",
     "output_type": "stream",
     "text": [
      "平均抽数：135.74711，中位数：120.0，众数：115，欧线：79.0，非线：176.0\n"
     ]
    }
   ],
   "source": [
    "for S, title, y_max in zip([gacha_alter_either_occur_arr, gacha_alter_nian_occur_arr, gacha_alter_both_occur_arr],\n",
    "                           ['new_either','nian','new_both'],\n",
    "                           [0.15, 0.10, 0.040]):\n",
    "    mean = np.mean(S)\n",
    "    median = np.median(S)\n",
    "    mode = np.argmax(np.bincount(S))\n",
    "    eu_line = np.percentile(S,25)\n",
    "    af_line = np.percentile(S,75)\n",
    "    \n",
    "    plt.figure(figsize=(16,6))\n",
    "    plt.hist(S, weights=np.ones_like(S)/len(S),\n",
    "             range=(0,500), bins=100)\n",
    "    plt.ylim(0, y_max)\n",
    "    plt.grid(axis='y',linestyle='--')\n",
    "    plt.plot([eu_line, eu_line], [0, 0.005], color='r', linestyle='-')\n",
    "    plt.plot([af_line, af_line], [0, 0.005], color='r', linestyle='-')\n",
    "    plt.title(title)\n",
    "    plt.savefig('alter-'+title+'.png')\n",
    "    plt.show()\n",
    "\n",
    "    print(\"平均抽数：{}，中位数：{}，众数：{}，欧线：{}，非线：{}\".format(\n",
    "        mean, median, mode, eu_line, af_line))"
   ]
  },
  {
   "cell_type": "markdown",
   "metadata": {},
   "source": [
    "## 应坛友提问，双满潜所需抽数"
   ]
  },
  {
   "cell_type": "markdown",
   "metadata": {},
   "source": [
    "### 抽取“地生五金池”"
   ]
  },
  {
   "cell_type": "code",
   "execution_count": 13,
   "metadata": {},
   "outputs": [
    {
     "data": {
      "application/vnd.jupyter.widget-view+json": {
       "model_id": "",
       "version_major": 2,
       "version_minor": 0
      },
      "text/plain": [
       "HBox(children=(FloatProgress(value=0.0, description='players', max=100000.0, style=ProgressStyle(description_w…"
      ]
     },
     "metadata": {},
     "output_type": "display_data"
    },
    {
     "name": "stdout",
     "output_type": "stream",
     "text": [
      "\r"
     ]
    }
   ],
   "source": [
    "player_num = 100000\n",
    "double_full_arr = np.zeros(player_num, dtype=np.int)\n",
    "player = Player('new_2')\n",
    "for a in trange(player_num, desc='players', leave=False):\n",
    "    player.restart()\n",
    "    nian_count = 0\n",
    "    aak_count = 0\n",
    "    while (nian_count<6 or aak_count<6):\n",
    "        card = player.gacha(gacha_double)\n",
    "        if card=='nian':\n",
    "            nian_count += 1\n",
    "        if card=='aak':\n",
    "            aak_count += 1\n",
    "    double_full_arr[a] = player.gacha_count"
   ]
  },
  {
   "cell_type": "code",
   "execution_count": 19,
   "metadata": {},
   "outputs": [
    {
     "data": {
      "image/png": "[encoded data removed]",
      "text/plain": [
       "<Figure size 1152x432 with 1 Axes>"
      ]
     },
     "metadata": {
      "needs_background": "light"
     },
     "output_type": "display_data"
    },
    {
     "name": "stdout",
     "output_type": "stream",
     "text": [
      "平均抽数：733.73732，中位数：708.0，众数：642，欧线：593.0，非线：846.0\n"
     ]
    }
   ],
   "source": [
    "S = double_full_arr\n",
    "title = 'both_full_potential'\n",
    "y_max = 0.045\n",
    "n_max = 1800\n",
    "\n",
    "mean = np.mean(S)\n",
    "median = np.median(S)\n",
    "mode = np.argmax(np.bincount(S))\n",
    "eu_line = np.percentile(S,25)\n",
    "af_line = np.percentile(S,75)\n",
    "\n",
    "plt.figure(figsize=(16,6))\n",
    "plt.hist(S, weights=np.ones_like(S)/len(S),\n",
    "         range=(0,n_max), bins=100)\n",
    "plt.ylim(0, y_max)\n",
    "plt.grid(axis='y',linestyle='--')\n",
    "plt.plot([eu_line, eu_line], [0, 0.005], color='r', linestyle='-')\n",
    "plt.plot([af_line, af_line], [0, 0.005], color='r', linestyle='-')\n",
    "plt.title(title)\n",
    "plt.savefig('double-'+title+'.png')\n",
    "plt.show()\n",
    "\n",
    "print(\"平均抽数：{}，中位数：{}，众数：{}，欧线：{}，非线：{}\".format(\n",
    "    mean, median, mode, eu_line, af_line))"
   ]
  },
  {
   "cell_type": "markdown",
   "metadata": {},
   "source": [
    "### 抽取日替池(仅抽年，不考虑阿)"
   ]
  },
  {
   "cell_type": "code",
   "execution_count": 20,
   "metadata": {},
   "outputs": [
    {
     "data": {
      "application/vnd.jupyter.widget-view+json": {
       "model_id": "",
       "version_major": 2,
       "version_minor": 0
      },
      "text/plain": [
       "HBox(children=(FloatProgress(value=0.0, description='players', max=100000.0, style=ProgressStyle(description_w…"
      ]
     },
     "metadata": {},
     "output_type": "display_data"
    },
    {
     "name": "stdout",
     "output_type": "stream",
     "text": [
      "\r"
     ]
    }
   ],
   "source": [
    "player_num = 100000\n",
    "single_full_arr = np.zeros(player_num, dtype=np.int)\n",
    "player = Player('new_2')\n",
    "for a in trange(player_num, desc='players', leave=False):\n",
    "    player.restart()\n",
    "    nian_count = 0\n",
    "    aak_count = 0\n",
    "    while (nian_count<6):\n",
    "        card = player.gacha(gacha_nian)\n",
    "        if card=='nian':\n",
    "            nian_count += 1\n",
    "        if card=='aak':\n",
    "            aak_count += 1\n",
    "    single_full_arr[a] = player.gacha_count"
   ]
  },
  {
   "cell_type": "code",
   "execution_count": 21,
   "metadata": {},
   "outputs": [
    {
     "data": {
      "image/png": "[encoded data removed]",
      "text/plain": [
       "<Figure size 1152x432 with 1 Axes>"
      ]
     },
     "metadata": {
      "needs_background": "light"
     },
     "output_type": "display_data"
    },
    {
     "name": "stdout",
     "output_type": "stream",
     "text": [
      "平均抽数：418.3736，中位数：401.0，众数：348，欧线：317.0，非线：501.0\n"
     ]
    }
   ],
   "source": [
    "S = single_full_arr\n",
    "title = 'nian_full_potential'\n",
    "y_max = 0.045\n",
    "n_max = 900\n",
    "\n",
    "mean = np.mean(S)\n",
    "median = np.median(S)\n",
    "mode = np.argmax(np.bincount(S))\n",
    "eu_line = np.percentile(S,25)\n",
    "af_line = np.percentile(S,75)\n",
    "\n",
    "plt.figure(figsize=(16,6))\n",
    "plt.hist(S, weights=np.ones_like(S)/len(S),\n",
    "         range=(0,n_max), bins=100)\n",
    "plt.ylim(0, y_max)\n",
    "plt.grid(axis='y',linestyle='--')\n",
    "plt.plot([eu_line, eu_line], [0, 0.005], color='r', linestyle='-')\n",
    "plt.plot([af_line, af_line], [0, 0.005], color='r', linestyle='-')\n",
    "plt.title(title)\n",
    "plt.savefig('aalter-'+title+'.png')\n",
    "plt.show()\n",
    "\n",
    "print(\"平均抽数：{}，中位数：{}，众数：{}，欧线：{}，非线：{}\".format(\n",
    "    mean, median, mode, eu_line, af_line))"
   ]
  }
 ],
 "metadata": {
  "kernelspec": {
   "display_name": "Python 3",
   "language": "python",
   "name": "python3"
  },
  "language_info": {
   "codemirror_mode": {
    "name": "ipython",
    "version": 3
   },
   "file_extension": ".py",
   "mimetype": "text/x-python",
   "name": "python",
   "nbconvert_exporter": "python",
   "pygments_lexer": "ipython3",
   "version": "3.7.6"
  }
 },
 "nbformat": 4,
 "nbformat_minor": 2
}
